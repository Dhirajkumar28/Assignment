{
 "cells": [
  {
   "cell_type": "markdown",
   "id": "2636f856",
   "metadata": {},
   "source": [
    "# Q.1 Write a Python program to check if a string is a palindrome?"
   ]
  },
  {
   "cell_type": "code",
   "execution_count": 1,
   "id": "396c0d5b",
   "metadata": {},
   "outputs": [
    {
     "name": "stdout",
     "output_type": "stream",
     "text": [
      "Enter the string:malayalam\n",
      "Palindrome\n"
     ]
    }
   ],
   "source": [
    "string=input(\"Enter the string:\")\n",
    "flag = True\n",
    "for i in range (0,len(string)//2):\n",
    "    if string[i] != string[len(string) - i -1]:\n",
    "        flag = True\n",
    "        print(\"Not a Palindrome\")\n",
    "        break\n",
    "if flag:\n",
    "    print(\"Palindrome\")\n",
    "    "
   ]
  },
  {
   "cell_type": "markdown",
   "id": "8ba0e725",
   "metadata": {},
   "source": [
    "# Q.2 Write a Python program to find the factorial of a number?"
   ]
  },
  {
   "cell_type": "code",
   "execution_count": 5,
   "id": "b377594c",
   "metadata": {},
   "outputs": [
    {
     "name": "stdout",
     "output_type": "stream",
     "text": [
      "Enter a number: 10\n",
      "Factorial of 10 is 3628800\n"
     ]
    }
   ],
   "source": [
    "def factorial_iterative(n):\n",
    "    result = 1\n",
    "    for i in range(1, n + 1):\n",
    "        result *= i\n",
    "    return result\n",
    "\n",
    "# Test the function\n",
    "num = int(input(\"Enter a number: \"))\n",
    "print(\"Factorial of\", num, \"is\", factorial_iterative(num))\n"
   ]
  },
  {
   "cell_type": "markdown",
   "id": "3c5207df",
   "metadata": {},
   "source": [
    "# Q.3 Write a Python program to find the largest element in a list?"
   ]
  },
  {
   "cell_type": "code",
   "execution_count": 8,
   "id": "8b60e6b5",
   "metadata": {},
   "outputs": [
    {
     "name": "stdout",
     "output_type": "stream",
     "text": [
      "Largest element is: 799\n"
     ]
    }
   ],
   "source": [
    "\n",
    "list = [100, 200, 440, 345, 799]\n",
    "\n",
    "# Printing the maximum element\n",
    "print(\"Largest element is:\", max(list))\n"
   ]
  },
  {
   "cell_type": "code",
   "execution_count": 10,
   "id": "4a7d4d8a",
   "metadata": {},
   "outputs": [
    {
     "name": "stdout",
     "output_type": "stream",
     "text": [
      "Enter number of elements in list: 5\n",
      "Enter elements: 120\n",
      "Enter elements: 245\n",
      "Enter elements: 144\n",
      "Enter elements: 265\n",
      "Enter elements: 316\n",
      "Largest element is: 316\n"
     ]
    }
   ],
   "source": [
    "list1 = []\n",
    "num = int(input(\"Enter number of elements in list: \"))\n",
    "# Iterating till num to append elements in list\n",
    "for i in range(1, num + 1):\n",
    "    ele = int(input(\"Enter elements: \"))\n",
    "    list1.append(ele)\n",
    "print(\"Largest element is:\", max(list1))\n"
   ]
  },
  {
   "cell_type": "markdown",
   "id": "bc81c303",
   "metadata": {},
   "source": [
    "# Q.4  Write a Python program to reverse a string?"
   ]
  },
  {
   "cell_type": "code",
   "execution_count": 19,
   "id": "550083ea",
   "metadata": {},
   "outputs": [
    {
     "name": "stdout",
     "output_type": "stream",
     "text": [
      "ENTER STRING :-Hello Dhiraj!!\n"
     ]
    },
    {
     "data": {
      "text/plain": [
       "'!!jarihD olleH'"
      ]
     },
     "execution_count": 19,
     "metadata": {},
     "output_type": "execute_result"
    }
   ],
   "source": [
    "string=input(\"ENTER STRING :-\")\n",
    "string[::-1]                         #slicing"
   ]
  },
  {
   "cell_type": "code",
   "execution_count": 12,
   "id": "c270a96d",
   "metadata": {},
   "outputs": [
    {
     "name": "stdout",
     "output_type": "stream",
     "text": [
      "Enter a string: Hello Python!!\n",
      "Reversed string: !!nohtyP olleH\n"
     ]
    }
   ],
   "source": [
    "def reverse_string(s):\n",
    "    return s[::-1]\n",
    "original_string = input(\"Enter a string: \")\n",
    "reversed_string = reverse_string(original_string)\n",
    "print(\"Reversed string:\", reversed_string)\n"
   ]
  },
  {
   "cell_type": "markdown",
   "id": "67a27c65",
   "metadata": {},
   "source": [
    "# Q.5 Write a Python program to count the frequency of each element in a list?"
   ]
  },
  {
   "cell_type": "code",
   "execution_count": 13,
   "id": "40c9a41a",
   "metadata": {},
   "outputs": [
    {
     "name": "stdout",
     "output_type": "stream",
     "text": [
      "Lists elements Frequency : {4: 2, 6: 2, 8: 2, 9: 1, 10: 2}\n"
     ]
    }
   ],
   "source": [
    "list1 = [4, 6, 8, 9, 10]\n",
    "list2 = [4, 6, 6, 5, 8, 10, 4, 9, 8, 10, 1]\n",
    "frequency = {}\n",
    "for item in list1:\n",
    "    count = 0\n",
    "    for element in list2:\n",
    "        if item == element:\n",
    "            count += 1\n",
    "    frequency[item] = count\n",
    "print(\"Lists elements Frequency :\", frequency)\n"
   ]
  },
  {
   "cell_type": "markdown",
   "id": "ff85a32a",
   "metadata": {},
   "source": [
    "# Q.6 Write a Python program to check if a number is prime? "
   ]
  },
  {
   "cell_type": "code",
   "execution_count": 17,
   "id": "e424f5a7",
   "metadata": {},
   "outputs": [
    {
     "name": "stdout",
     "output_type": "stream",
     "text": [
      "Enter the number:-17\n",
      "17 is a prime number\n"
     ]
    }
   ],
   "source": [
    "num = int(input(\"Enter the number:-\"))\n",
    "if num > 1:\n",
    "    for i in range(2, (num//2)+1):\n",
    "        if (num % i) == 0:\n",
    "            print(num, \"is not a prime number\")\n",
    "            break\n",
    "    else:\n",
    "        print(num, \"is a prime number\")\n",
    "else:\n",
    "    print(num, \"is not a prime number\")\n"
   ]
  },
  {
   "cell_type": "markdown",
   "id": "552ef508",
   "metadata": {},
   "source": [
    "# Q.7 Write a Python program to find the common elements between two lists?"
   ]
  },
  {
   "cell_type": "code",
   "execution_count": 9,
   "id": "4e532f6c",
   "metadata": {},
   "outputs": [
    {
     "name": "stdout",
     "output_type": "stream",
     "text": [
      "Common elements: [44, 77, 55]\n"
     ]
    }
   ],
   "source": [
    "def find_common_elements(list1, list2):\n",
    "    # Convert lists to sets for efficient intersection operation\n",
    "    set1 = set(list1)\n",
    "    set2 = set(list2)\n",
    "    \n",
    "    common_elements = set1.intersection(set2)\n",
    "    common_elements_list = list(common_elements)\n",
    "    \n",
    "    return common_elements_list\n",
    "\n",
    "list1 = [10, 77, 23, 44, 55]\n",
    "list2 = [44, 55, 66, 77, 88]\n",
    "common_elements = find_common_elements(list1, list2)\n",
    "print(\"Common elements:\", common_elements)\n",
    "\n"
   ]
  },
  {
   "cell_type": "markdown",
   "id": "1ec7a5f8",
   "metadata": {},
   "source": [
    "# Q.8 Write a Python program to sort a list of elements using the bubble sort algorithm?"
   ]
  },
  {
   "cell_type": "code",
   "execution_count": 10,
   "id": "732ee98b",
   "metadata": {},
   "outputs": [
    {
     "name": "stdout",
     "output_type": "stream",
     "text": [
      "Sorted array: [11, 12, 22, 25, 34, 64, 90]\n"
     ]
    }
   ],
   "source": [
    "def bubble_sort(arr):\n",
    "    n = len(arr)\n",
    "    for i in range(n):\n",
    "        for j in range(0, n-i-1):\n",
    "            if arr[j] > arr[j+1]:\n",
    "                arr[j], arr[j+1] = arr[j+1], arr[j]\n",
    "\n",
    "arr = [64, 34, 25, 12, 22, 11, 90]\n",
    "bubble_sort(arr)\n",
    "print(\"Sorted array:\", arr)\n"
   ]
  },
  {
   "cell_type": "markdown",
   "id": "9f841aa7",
   "metadata": {},
   "source": [
    "# Q.9 Write a Python program to find the second largest number in a list?"
   ]
  },
  {
   "cell_type": "code",
   "execution_count": 13,
   "id": "ff3cbb97",
   "metadata": {},
   "outputs": [
    {
     "name": "stdout",
     "output_type": "stream",
     "text": [
      "Second largest element is: 45\n"
     ]
    }
   ],
   "source": [
    "\n",
    "list1 = [10, 20, 20, 4, 45, 45, 45, 99, 99]\n",
    "list2 = list(set(list1))\n",
    "\n",
    "list2.sort()\n",
    "\n",
    "\n",
    "print(\"Second largest element is:\", list2[-2])\n"
   ]
  },
  {
   "cell_type": "code",
   "execution_count": 14,
   "id": "f4f2a9d1",
   "metadata": {},
   "outputs": [
    {
     "name": "stdout",
     "output_type": "stream",
     "text": [
      "Second largest element is: 45\n"
     ]
    }
   ],
   "source": [
    "list1 = [10, 20, 4, 45, 99]\n",
    "print(\"Second largest element is:\", sorted(list1)[-2])\n"
   ]
  },
  {
   "cell_type": "markdown",
   "id": "47733ed7",
   "metadata": {},
   "source": [
    "# Q.10 Write a Python program to remove duplicates from a list?"
   ]
  },
  {
   "cell_type": "code",
   "execution_count": 15,
   "id": "36158428",
   "metadata": {},
   "outputs": [
    {
     "name": "stdout",
     "output_type": "stream",
     "text": [
      "Original list: [1, 2, 3, 3, 4, 4, 5]\n",
      "List after removing duplicates: [1, 2, 3, 4, 5]\n"
     ]
    }
   ],
   "source": [
    "def remove_duplicates(lst):\n",
    "    unique_list = []\n",
    "    for item in lst:\n",
    "        if item not in unique_list:\n",
    "            unique_list.append(item)\n",
    "    return unique_list\n",
    "\n",
    "original_list = [1, 2, 3, 3, 4, 4, 5]\n",
    "print(\"Original list:\", original_list)\n",
    "unique_list = remove_duplicates(original_list)\n",
    "print(\"List after removing duplicates:\", unique_list)\n"
   ]
  },
  {
   "cell_type": "markdown",
   "id": "f53b8738",
   "metadata": {},
   "source": [
    "# Q.11 What is Python?How do you comment in Python?"
   ]
  },
  {
   "cell_type": "markdown",
   "id": "0035f3d7",
   "metadata": {},
   "source": [
    "Python is a high-level, interpreted programming language known for its simplicity and readability. It supports multiple programming paradigms, including procedural, object-oriented, and functional programming. Python is widely used for web development, data analysis, artificial intelligence, machine learning, scientific computing, and automation.\n",
    "\n",
    "In Python, comments are used to explain the code and make it more understandable for other developers or for future reference. \n",
    "\n",
    "There are two types of comments in Python:\n",
    "Single-line comments: These are created using the # symbol. Anything written after # on the same line is considered a comment and is ignored by the interpreter during execution.\n",
    "\n",
    "#This is a single-line comment\n",
    "Multi-line comments: Python does not have a direct syntax for multi-line comments like some other programming languages. However, multi-line strings (docstrings) enclosed in triple quotes (''' or \"\"\") are often used for documentation purposes. While these are not traditional comments, they serve a similar purpose for documenting code .\n",
    "This is a multi-line comment.\n",
    "It spans across multiple lines.\n",
    "'''"
   ]
  },
  {
   "cell_type": "markdown",
   "id": "30724c53",
   "metadata": {},
   "source": [
    "# Q.12 What are the key features of Python?"
   ]
  },
  {
   "cell_type": "markdown",
   "id": "86643100",
   "metadata": {},
   "source": [
    "Key features of Python include:\n",
    "\n",
    "Easy to Learn and Use: Python has a simple and easy-to-understand syntax, making it accessible for beginners.\n",
    "\n",
    "Interpreted and Interactive: Python is an interpreted language, allowing for immediate code execution and interactive exploration.\n",
    "\n",
    "Object-Oriented: Python supports object-oriented programming paradigms, facilitating code organization and reuse.\n",
    "\n",
    "High-level Language: Python abstracts low-level details, enabling developers to focus on solving problems rather than dealing with memory management or system-level operations.\n",
    "\n",
    "Extensive Standard Library: Python comes with a vast standard library containing modules and functions for various tasks, reducing the need for external dependencies.\n",
    "\n",
    "Dynamic Typing: Python is dynamically typed, allowing variables to be assigned without declaring their type explicitly, enhancing flexibility and productivity."
   ]
  },
  {
   "cell_type": "markdown",
   "id": "a6894b1a",
   "metadata": {},
   "source": [
    "# Q.13 Explain the difference between a list and a tuple?What is the purpose of the ‘self’ parameter in Python?"
   ]
  },
  {
   "cell_type": "markdown",
   "id": "110044bd",
   "metadata": {},
   "source": [
    "Difference between a list and a tuple:\n",
    "Mutability:\n",
    "Lists are mutable, meaning their elements can be modified after creation.\n",
    "Tuples, on the other hand, are immutable, meaning once created, their elements cannot be changed.\n",
    "\n",
    "Syntax:\n",
    "Lists are defined using square brackets [ ].\n",
    "Tuples are defined using parentheses ( ).\n",
    "\n",
    "Performance:\n",
    "Due to mutability, lists might be slower in certain operations compared to tuples.\n",
    "Tuples, being immutable, offer faster access times.\n",
    "\n",
    "Use Cases:\n",
    "Lists are suitable for situations where elements need to be modified or appended frequently.\n",
    "Tuples are preferred when data integrity and immutability are desired, such as storing constants or coordinates.\n",
    "\n",
    "**Purpose of the ‘self’ parameter in Python:\n",
    "The self parameter is used as a reference to the current instance of a class in Python.\n",
    "It is explicitly passed as the first parameter to the methods of a class, allowing those methods to access and modify attributes of the object.\n",
    "When calling a method on an object, Python automatically passes the object instance as the self parameter, simplifying method invocation and ensuring proper object-oriented behavior."
   ]
  },
  {
   "cell_type": "markdown",
   "id": "093b223c",
   "metadata": {},
   "source": [
    "# Q.14 What is a module in Python?"
   ]
  },
  {
   "cell_type": "markdown",
   "id": "5c936516",
   "metadata": {},
   "source": [
    "A module in Python is a file containing Python code. It can define functions, classes, and variables, which can be utilized in other Python files or interactive sessions. Modules help in organizing Python code into reusable components, making the codebase more manageable and modular. By importing modules, you can access their functionality and use it within your program. Python offers a rich collection of built-in modules for various purposes, such as math operations, file handling, networking, and more. Additionally, you can create your own modules to encapsulate related code and promote code reusability across different projects."
   ]
  },
  {
   "cell_type": "markdown",
   "id": "c8e148f6",
   "metadata": {},
   "source": [
    "# Q.15 How do you handle exceptions in Python?"
   ]
  },
  {
   "cell_type": "markdown",
   "id": "ee8f75d7",
   "metadata": {},
   "source": [
    "In Python, you handle exceptions using the try, except, and optionally finally blocks. "
   ]
  },
  {
   "cell_type": "code",
   "execution_count": 18,
   "id": "9a2c9bcb",
   "metadata": {},
   "outputs": [
    {
     "name": "stdout",
     "output_type": "stream",
     "text": [
      "Cannot divide by zero!\n",
      "Cleanup code or final operations here.\n"
     ]
    }
   ],
   "source": [
    "\n",
    "try:\n",
    "    # Code that may raise an exception\n",
    "    result = 10 / 0  # Example: division by zero\n",
    "except ZeroDivisionError:\n",
    "    # Handle specific exception\n",
    "    print(\"Cannot divide by zero!\")\n",
    "except Exception as e:\n",
    "    # Handle other exceptions\n",
    "    print(\"An error occurred:\", e)\n",
    "else:\n",
    "    # Executed if no exception occurs\n",
    "    print(\"Division successful!\")\n",
    "finally:\n",
    "    # Optional block, always executed\n",
    "    print(\"Cleanup code or final operations here.\")\n"
   ]
  },
  {
   "cell_type": "markdown",
   "id": "da934559",
   "metadata": {},
   "source": [
    "In this example:\n",
    "\n",
    "The try block contains the code that may raise an exception.\n",
    "The except block catches specific exceptions, such as ZeroDivisionError, and handles them gracefully.\n",
    "The else block is executed if no exception occurs in the try block.\n",
    "The finally block is optional and is always executed, whether an exception occurs or not, allowing for cleanup or final operations."
   ]
  },
  {
   "cell_type": "markdown",
   "id": "d9310485",
   "metadata": {},
   "source": [
    "# Q16 What is the purpose of the ‘if name == “main”’ statement?"
   ]
  },
  {
   "cell_type": "markdown",
   "id": "9f307ed0",
   "metadata": {},
   "source": [
    "The if __name__ == \"__main__\" statement in Python is used to control the execution of code within a script. It ensures that the code block under it only runs if the script is executed directly, not when it's imported as a module into another script. This allows the script to be both runnable as a standalone program and reusable as a module. It is commonly used to define executable code or functions that are intended to run when the script is executed directly but not when it's imported."
   ]
  },
  {
   "cell_type": "markdown",
   "id": "7a2bc98b",
   "metadata": {},
   "source": [
    "# Q.17 Explain the difference between ‘append()’ and ‘extend()’ methods for lists?"
   ]
  },
  {
   "cell_type": "markdown",
   "id": "176b80e2",
   "metadata": {},
   "source": [
    "append(): Adds a single element to the end of the list.\n",
    "extend(): Takes an iterable (such as a list) and adds each element from that iterable to the end of the list.\n",
    "\n",
    "When using append(), you add a single element directly to the list. Conversely, extend() allows you to add multiple elements to the list by taking an iterable (like a list) and appending each element individually to the end of the list."
   ]
  },
  {
   "cell_type": "code",
   "execution_count": 24,
   "id": "ecc06a0b",
   "metadata": {},
   "outputs": [
    {
     "data": {
      "text/plain": [
       "[1, 2, 3, 4]"
      ]
     },
     "execution_count": 24,
     "metadata": {},
     "output_type": "execute_result"
    }
   ],
   "source": [
    "my_list = [1, 2, 3]\n",
    "my_list.append(4)\n",
    "my_list"
   ]
  },
  {
   "cell_type": "code",
   "execution_count": 19,
   "id": "04db3c8c",
   "metadata": {},
   "outputs": [
    {
     "data": {
      "text/plain": [
       "[1, 2, 3, 4, 5]"
      ]
     },
     "execution_count": 19,
     "metadata": {},
     "output_type": "execute_result"
    }
   ],
   "source": [
    "my_list = [1, 2, 3]\n",
    "my_list.extend([4, 5])\n",
    "my_list"
   ]
  },
  {
   "cell_type": "markdown",
   "id": "85f15218",
   "metadata": {},
   "source": [
    "# Q.18 What is the ‘str’ function used for in Python?"
   ]
  },
  {
   "cell_type": "markdown",
   "id": "d0562f0c",
   "metadata": {},
   "source": [
    "The str() function in Python is a built-in function used to convert non-string objects into string representations. It takes an object as input and returns its string representation. This function is commonly used when you need to concatenate strings with other data types, print variables, or convert data types for display purposes. For example, you can convert integers, floats, lists, tuples, dictionaries, and other objects into strings using the str() function."
   ]
  },
  {
   "cell_type": "markdown",
   "id": "e4983929",
   "metadata": {},
   "source": [
    "# Q.19 Explain the difference between mutable and immutable data types in Python?"
   ]
  },
  {
   "cell_type": "markdown",
   "id": "40deb4c7",
   "metadata": {},
   "source": [
    "In Python, mutable data types are those whose values can be changed after creation, while immutable data types are those whose values cannot be changed after creation. Mutable data types include lists, dictionaries, and sets, which allow modifications like adding, removing, or updating elements without creating a new object. On the other hand, immutable data types include integers, floats, strings, tuples, and frozensets. Once created, immutable objects cannot be modified; any operation that appears to modify them actually creates a new object. Understanding the difference is crucial for efficient memory management and ensuring data integrity in Python programs."
   ]
  },
  {
   "cell_type": "markdown",
   "id": "b254bc70",
   "metadata": {},
   "source": [
    "# Q.20 How do you perform a shallow copy and a deep copy of a list in Python?"
   ]
  },
  {
   "cell_type": "markdown",
   "id": "0a843829",
   "metadata": {},
   "source": [
    "Shallow Copy:\n",
    "\n",
    "Use the copy() method or the copy.copy() function from the copy module.\n",
    "Example: new_list = original_list.copy() or import copy; new_list = copy.copy(original_list).\n",
    "Shallow copy creates a new list object but does not recursively clone nested objects. Changes to nested objects in the copied list will affect the original list.\n",
    "Deep Copy:\n",
    "\n",
    "Use the deepcopy() function from the copy module.\n",
    "Example: import copy; new_list = copy.deepcopy(original_list).\n",
    "Deep copy creates a new list object and recursively clones all nested objects. Changes to nested objects in the copied list won't affect the original list."
   ]
  },
  {
   "cell_type": "markdown",
   "id": "1080b667",
   "metadata": {},
   "source": [
    "# Q.21 What is a decorator in Python?Explain the difference between ‘==’, ‘is’, and ‘in’ operators."
   ]
  },
  {
   "cell_type": "markdown",
   "id": "6beb787a",
   "metadata": {},
   "source": [
    "Decorator in Python:\n",
    "\n",
    "A decorator in Python is a design pattern that allows modifying the behavior of a function or class without changing its source code. It is implemented using the @decorator_name syntax before the function or class definition.\n",
    "Decorators are typically used for adding functionality such as logging, authentication, or caching to functions or classes.\n",
    "Difference between ‘==’, ‘is’, and ‘in’ operators:\n",
    "\n",
    "== is the equality operator, used to compare the values of two objects.\n",
    "is is the identity operator, used to check if two objects refer to the same memory location.\n",
    "in is a membership operator, used to check if a value exists in a sequence (like lists, tuples, or strings)."
   ]
  },
  {
   "cell_type": "markdown",
   "id": "82aa1dc6",
   "metadata": {},
   "source": [
    "# Q.22 How can you convert a string to an integer in Python?"
   ]
  },
  {
   "cell_type": "code",
   "execution_count": 1,
   "id": "024c40aa",
   "metadata": {},
   "outputs": [
    {
     "data": {
      "text/plain": [
       "123"
      ]
     },
     "execution_count": 1,
     "metadata": {},
     "output_type": "execute_result"
    }
   ],
   "source": [
    "string_value = \"123\"\n",
    "integer_value = int(string_value)\n",
    "integer_value"
   ]
  },
  {
   "cell_type": "code",
   "execution_count": 2,
   "id": "a9f3dc02",
   "metadata": {},
   "outputs": [
    {
     "data": {
      "text/plain": [
       "int"
      ]
     },
     "execution_count": 2,
     "metadata": {},
     "output_type": "execute_result"
    }
   ],
   "source": [
    "type(integer_value)"
   ]
  },
  {
   "cell_type": "markdown",
   "id": "efaadf7e",
   "metadata": {},
   "source": [
    "# Q.23 What is the purpose of the ‘pass’ statement in Python?"
   ]
  },
  {
   "cell_type": "markdown",
   "id": "7ec1fde2",
   "metadata": {},
   "source": [
    "The pass statement in Python is a null statement that does nothing when executed. It serves as a placeholder to indicate where code will eventually go, especially in situations where syntactically a statement is required but no action is needed. It is commonly used in situations such as empty loops, function or class definitions where no additional code is needed, or in conditional statements where the block of code is intentionally left blank."
   ]
  },
  {
   "cell_type": "markdown",
   "id": "60bb6d41",
   "metadata": {},
   "source": [
    "# Q.24 What is the purpose of the ‘range()’ function?"
   ]
  },
  {
   "cell_type": "markdown",
   "id": "a2265cc3",
   "metadata": {},
   "source": [
    "The range() function in Python is used to generate a sequence of numbers. It is commonly used in looping constructs, such as for loops, to iterate over a sequence of numbers. The function can take one, two, or three arguments, representing the start, stop, and step values of the sequence, respectively. When only one argument is provided, it represents the stop value, and the sequence starts from 0 with a default step of 1. With two arguments, the first argument represents the start value, and the sequence goes up to, but does not include, the stop value. When three arguments are provided, the third argument is the step value, indicating the increment between each number in the sequence."
   ]
  },
  {
   "cell_type": "markdown",
   "id": "78c7b5e5",
   "metadata": {},
   "source": [
    "# Q.24 What is a lambda function?"
   ]
  },
  {
   "cell_type": "markdown",
   "id": "e413589e",
   "metadata": {},
   "source": [
    "A lambda function in Python is an anonymous function, meaning it doesn't have a name like regular functions defined using the def keyword. Instead, lambda functions are defined using the lambda keyword. They are typically used for short, simple operations and are often used where you need a small function for a short period and don't want to define a separate function using def. Lambda functions can take any number of arguments but can only have one expression. They are commonly used in conjunction with functions like map(), filter(), and reduce(), where a simple function is required as an argument. Lambda functions are concise and convenient for tasks where a full-fledged function is not necessary."
   ]
  },
  {
   "cell_type": "markdown",
   "id": "5c2b9d2d",
   "metadata": {},
   "source": [
    "# Q.25 Explain indexing and slicing in Python?"
   ]
  },
  {
   "cell_type": "markdown",
   "id": "4a7c6871",
   "metadata": {},
   "source": [
    "Indexing and slicing are fundamental concepts in Python used to access specific elements or sections within sequences like lists, strings, tuples, etc.\n",
    "\n",
    "Indexing: Refers to accessing individual elements within a sequence using their position or index. In Python, indexing starts from 0 for the first element, -1 for the last element, -2 for the second last element, and so on. For example, my_list[0] accesses the first element of the list my_list.\n",
    "\n",
    "Slicing: Involves extracting a contiguous section or subset of elements from a sequence. It is performed using the syntax [start:stop:step], where start is the starting index (inclusive), stop is the ending index (exclusive), and step is the step size between elements. If any of these parameters are omitted, they default to certain values (0 for start, length of the sequence for stop, and 1 for step). For example, my_list[2:5] extracts elements from index 2 to 4 from the list my_list.\n",
    "\n",
    "Indexing and slicing are versatile operations extensively used in Python for data manipulation and analysis."
   ]
  },
  {
   "cell_type": "markdown",
   "id": "a47e6f80",
   "metadata": {},
   "source": [
    "# Q.26 How can you reverse a list in Python?"
   ]
  },
  {
   "cell_type": "markdown",
   "id": "dee63ced",
   "metadata": {},
   "source": [
    "\n",
    "To reverse a list in Python, you can use any of the following methods:\n",
    "\n",
    "Using the reverse() method: This method reverses the elements of the list in place.\n",
    "\n",
    "Example: my_list.reverse()\n",
    "Using the reversed() function: This function returns a reverse iterator, which can be converted back into a list using list().\n",
    "\n",
    "Example: reversed_list = list(reversed(my_list))\n",
    "Using slicing: Slicing with a step of -1 can reverse a list efficiently.\n",
    "\n",
    "Example: reversed_list = my_list[::-1]\n"
   ]
  },
  {
   "cell_type": "markdown",
   "id": "e83ecb43",
   "metadata": {},
   "source": [
    "# Q.27 What is the difference between ‘pop()’ and ‘remove()’ methods for lists?"
   ]
  },
  {
   "cell_type": "markdown",
   "id": "c54bfd03",
   "metadata": {},
   "source": [
    "Return Value:\n",
    "\n",
    "pop(): Returns the removed element from the list. It modifies the list by removing the element at the specified index.\n",
    "remove(): Does not return any value. It removes the first occurrence of a specified value from the list.\n",
    "Usage:\n",
    "\n",
    "pop(): Requires an index as an argument to specify which element to remove.\n",
    "remove(): Requires the value of the element to be removed as an argument.\n",
    "Effect:\n",
    "\n",
    "pop(): Modifies the original list by removing and returning the specified element.\n",
    "remove(): Modifies the original list by removing the first occurrence of the specified value."
   ]
  },
  {
   "cell_type": "markdown",
   "id": "571928e2",
   "metadata": {},
   "source": [
    "# Q.28 What is a set in Python?Difference between frozenset or NormalSet ?"
   ]
  },
  {
   "cell_type": "markdown",
   "id": "9752083b",
   "metadata": {},
   "source": [
    "In Python, a set is a collection of unique elements without any particular order. It is mutable, meaning its elements can be added or removed after creation using methods like add() and remove(). Sets are defined using curly braces {} or by using the set() constructor.\n",
    "\n",
    "On the other hand, a frozenset is similar to a set but is immutable. Once created, a frozenset cannot be modified. This means you cannot add or remove elements from a frozenset after it has been initialized. Frozensets are defined using the frozenset() constructor.\n",
    "\n",
    "Here are the key differences:\n",
    "\n",
    "Mutability: \n",
    "Sets (set): Mutable.\n",
    "Frozensets (frozenset): Immutable.\n",
    "\n",
    "Modification:\n",
    "Sets: Can be modified after creation.\n",
    "Frozensets: Cannot be modified after creation.\n",
    "\n",
    "Usage:\n",
    "Sets are used when you need a collection of unique mutable elements.\n",
    "Frozensets are used when you need a collection of unique immutable elements."
   ]
  },
  {
   "cell_type": "markdown",
   "id": "21091c89",
   "metadata": {},
   "source": [
    "# Q.29 What is a dictionary comprehension in Python?"
   ]
  },
  {
   "cell_type": "markdown",
   "id": "f8457461",
   "metadata": {},
   "source": [
    "A dictionary comprehension is a concise and efficient way to create dictionaries in Python. It allows you to construct dictionaries using a single line of code by iterating over an iterable object and defining key-value pairs based on certain conditions or transformations.\n",
    "key and value are expressions that define the key-value pairs, and iterable is any iterable object like a list, tuple, or another dictionary.\n",
    "\n",
    "Dictionary comprehensions are especially useful when you want to create dictionaries based on some logic without the need for verbose loops or conditional statements."
   ]
  },
  {
   "cell_type": "code",
   "execution_count": 31,
   "id": "92470b67",
   "metadata": {},
   "outputs": [
    {
     "data": {
      "text/plain": [
       "{1: 1, 2: 4, 3: 9, 4: 16, 5: 25}"
      ]
     },
     "execution_count": 31,
     "metadata": {},
     "output_type": "execute_result"
    }
   ],
   "source": [
    "# Creating a dictionary of squares for numbers 1 to 5\n",
    "squares = {num: num*num for num in range(1, 6)}\n",
    "squares\n"
   ]
  },
  {
   "cell_type": "markdown",
   "id": "400dc922",
   "metadata": {},
   "source": [
    "# Q.30 How can you convert a list of strings to a single string in Python?"
   ]
  },
  {
   "cell_type": "markdown",
   "id": "4ce04321",
   "metadata": {},
   "source": [
    "To convert a list of strings into a single string in Python, you can use the join() method. The join() method concatenates all the elements of the list into a single string, using a specified delimiter to separate each element."
   ]
  },
  {
   "cell_type": "code",
   "execution_count": 35,
   "id": "3031126c",
   "metadata": {},
   "outputs": [
    {
     "data": {
      "text/plain": [
       "'Hello Dhiraj ! How are You ?'"
      ]
     },
     "execution_count": 35,
     "metadata": {},
     "output_type": "execute_result"
    }
   ],
   "source": [
    "list1 = [\"Hello\", \"Dhiraj\", \"!\", \"How\" , \"are\" , \"You\" , \"?\"]\n",
    "string = \" \".join(list1)\n",
    "string"
   ]
  },
  {
   "cell_type": "markdown",
   "id": "182bab8a",
   "metadata": {},
   "source": [
    "# Q.31  How can you find the length of a string in Python?"
   ]
  },
  {
   "cell_type": "code",
   "execution_count": 36,
   "id": "b75cac71",
   "metadata": {},
   "outputs": [
    {
     "name": "stdout",
     "output_type": "stream",
     "text": [
      "Length of the string: 13\n"
     ]
    }
   ],
   "source": [
    "string = \"Hello, World!\"\n",
    "length = len(string)\n",
    "print(\"Length of the string:\", length)"
   ]
  },
  {
   "cell_type": "markdown",
   "id": "2758c867",
   "metadata": {},
   "source": [
    "# Q.32 How can you convert a string to uppercase and lowercase in Python?"
   ]
  },
  {
   "cell_type": "code",
   "execution_count": 37,
   "id": "838e8cff",
   "metadata": {},
   "outputs": [
    {
     "name": "stdout",
     "output_type": "stream",
     "text": [
      "HELLO WORLD\n",
      "hello world\n"
     ]
    }
   ],
   "source": [
    "string = \"hello world\"\n",
    "uppercase_string = string.upper()\n",
    "print(uppercase_string) \n",
    "string = \"HELLO WORLD\"\n",
    "lowercase_string = string.lower()\n",
    "print(lowercase_string)"
   ]
  },
  {
   "cell_type": "markdown",
   "id": "84751e52",
   "metadata": {},
   "source": [
    "# Q.33 How can you remove duplicates from a list in Python?"
   ]
  },
  {
   "cell_type": "code",
   "execution_count": 43,
   "id": "224c38eb",
   "metadata": {},
   "outputs": [
    {
     "data": {
      "text/plain": [
       "[1, 2, 3, 4, 5]"
      ]
     },
     "execution_count": 43,
     "metadata": {},
     "output_type": "execute_result"
    }
   ],
   "source": [
    "# Using set(): Convert the list to a set, as sets do not allow duplicate elements, then convert it back to a list.\n",
    "\n",
    "original_list1 = [1, 2, 3, 1, 2, 4, 5]\n",
    "unique_list1 = list(set(original_list))\n",
    "unique_list1\n",
    "# Using List Comprehension:\n",
    "original_list = [1, 2, 3, 1, 2, 4, 5]\n",
    "unique_list = []\n",
    "[unique_list.append(x) for x in original_list if x not in unique_list]\n",
    "unique_list"
   ]
  },
  {
   "cell_type": "markdown",
   "id": "f24fce84",
   "metadata": {},
   "source": [
    "# Q.34 Explain the purpose of the ‘random’ module in Python?"
   ]
  },
  {
   "cell_type": "markdown",
   "id": "53ee72b4",
   "metadata": {},
   "source": [
    "# Random Module\n",
    "It is a inbuild function in python\n",
    "To use ramdom module firstly import Random module \n",
    "There are some pre-defined function in random module\n",
    "1st . Randint function (1st,last,step) we will provide 1st number , last number and step value Then it will create array.\n",
    "like a = random.randint(1,10,3) it will create array any random number in between 1 and 10 but 1st number include and last number exclude\n",
    "We will used to generate OTP and we will also use in games\n",
    "\n",
    "2nd . Rand Function (Total number) we will provide total number value and it will create an array any random number but in between 0 to 1\n",
    "for example a = random.rand(10) then it will generate 10 number but any random number from 0 to 1 like 0.235, 0.114,0.996 like that\n",
    "\n",
    "3rd. Randn Function (total_number) we will provide total number value like rand function but it will create an array any random number but in between -3 to 3.\n",
    "for example a = random.randn (10) it will generate 10 random number in between -3 to 3"
   ]
  },
  {
   "cell_type": "code",
   "execution_count": null,
   "id": "2cf92caa",
   "metadata": {},
   "outputs": [],
   "source": []
  }
 ],
 "metadata": {
  "kernelspec": {
   "display_name": "Python 3 (ipykernel)",
   "language": "python",
   "name": "python3"
  },
  "language_info": {
   "codemirror_mode": {
    "name": "ipython",
    "version": 3
   },
   "file_extension": ".py",
   "mimetype": "text/x-python",
   "name": "python",
   "nbconvert_exporter": "python",
   "pygments_lexer": "ipython3",
   "version": "3.11.5"
  }
 },
 "nbformat": 4,
 "nbformat_minor": 5
}
